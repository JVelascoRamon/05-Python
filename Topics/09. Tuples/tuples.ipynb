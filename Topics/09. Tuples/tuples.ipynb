{
 "cells": [
  {
   "attachments": {},
   "cell_type": "markdown",
   "metadata": {},
   "source": [
    "# Tuples\n",
    "\n",
    "[Documentation](https://docs.python.org/3/c-api/tuple.html)\n",
    "\n",
    "Tuples are another kind of sequence that functions much like a list. The differences between tuples and lists are, the tuples cannot be changed.\n",
    "\n",
    "They have elements witch are indexed starting at 0. \n",
    "\n",
    "Tuples use parentheses and lists use square brackets.\n",
    "\n",
    "Creating a tuple is as simple as putting different comma-separated values between parentheses. Optionally you can put these comma-separated values without parenthesses also."
   ]
  },
  {
   "cell_type": "code",
   "execution_count": null,
   "metadata": {},
   "outputs": [],
   "source": [
    "names = ('Glen', 'Sally', 'Peter')\n",
    "print(names)\n",
    "\n",
    "fruits = 'apple', 'orange', 'kiwi'\n",
    "print(fruits)\n",
    "\n",
    "tuple_empty = tuple()\n",
    "print(tuple_empty)"
   ]
  },
  {
   "cell_type": "markdown",
   "metadata": {},
   "source": [
    "Tuples are immutable object, unlike a list, once you create a tuple, you cannot alter its contents, similar a string"
   ]
  },
  {
   "cell_type": "code",
   "execution_count": null,
   "metadata": {},
   "outputs": [],
   "source": [
    "z = (5, 4, 3)\n",
    "#z[2] = 0  #uncomment to test"
   ]
  },
  {
   "cell_type": "markdown",
   "metadata": {},
   "source": [
    "Others things not allowed with tuples"
   ]
  },
  {
   "cell_type": "code",
   "execution_count": null,
   "metadata": {},
   "outputs": [],
   "source": [
    "x = (3, 2, 1)\n",
    "#x.sort()     #uncomment to test\n",
    "#x.append(5)  #uncomment to test\n",
    "#x.reverse()  #uncomment to test"
   ]
  },
  {
   "cell_type": "code",
   "execution_count": 4,
   "metadata": {},
   "outputs": [
    {
     "name": "stdout",
     "output_type": "stream",
     "text": [
      "['__add__', '__class__', '__class_getitem__', '__contains__', '__delattr__', '__delitem__', '__dir__', '__doc__', '__eq__', '__format__', '__ge__', '__getattribute__', '__getitem__', '__getstate__', '__gt__', '__hash__', '__iadd__', '__imul__', '__init__', '__init_subclass__', '__iter__', '__le__', '__len__', '__lt__', '__mul__', '__ne__', '__new__', '__reduce__', '__reduce_ex__', '__repr__', '__reversed__', '__rmul__', '__setattr__', '__setitem__', '__sizeof__', '__str__', '__subclasshook__', 'append', 'clear', 'copy', 'count', 'extend', 'index', 'insert', 'pop', 'remove', 'reverse', 'sort']\n",
      "---------\n",
      "['__add__', '__class__', '__class_getitem__', '__contains__', '__delattr__', '__dir__', '__doc__', '__eq__', '__format__', '__ge__', '__getattribute__', '__getitem__', '__getnewargs__', '__getstate__', '__gt__', '__hash__', '__init__', '__init_subclass__', '__iter__', '__le__', '__len__', '__lt__', '__mul__', '__ne__', '__new__', '__reduce__', '__reduce_ex__', '__repr__', '__rmul__', '__setattr__', '__sizeof__', '__str__', '__subclasshook__', 'count', 'index']\n"
     ]
    }
   ],
   "source": [
    "l = list()\n",
    "print(dir(l))\n",
    "\n",
    "print('---------')\n",
    "\n",
    "t = tuple()\n",
    "print(dir(t))"
   ]
  },
  {
   "cell_type": "markdown",
   "metadata": {},
   "source": [
    "## So why Tuples?\n",
    "\n",
    "Since Python does not have to build tuple structures to be modifiable, they are simpler and more efficient in terms of memory use and performance than lists.\n",
    "\n",
    "So in out program when we are making \"temporary variables\" we prefer tuples over lists."
   ]
  },
  {
   "cell_type": "markdown",
   "metadata": {},
   "source": [
    "## Tuples and Assigment\n",
    "\n",
    "We can also put a tuple on the left-hand side of a assignment statement.\n",
    "\n",
    "We can even omit the parentheses."
   ]
  },
  {
   "cell_type": "code",
   "execution_count": null,
   "metadata": {},
   "outputs": [],
   "source": [
    "(x, y) = (4, 'Peter')\n",
    "print (y)\n",
    "\n",
    "a, b = (99, 98)\n",
    "print (a)"
   ]
  },
  {
   "cell_type": "markdown",
   "metadata": {},
   "source": [
    "## Tuples and Dictionaries\n",
    "\n",
    "The items() method in dictionaries returns a list of (key,value) tuples."
   ]
  },
  {
   "cell_type": "code",
   "execution_count": null,
   "metadata": {},
   "outputs": [],
   "source": [
    "d = dict()\n",
    "d['csev'] = 2\n",
    "d['cwen'] = 4\n",
    "for (k,v) in d.items():\n",
    "    print(k, v)\n",
    "\n",
    "tups = d.items()\n",
    "print(tups)"
   ]
  },
  {
   "cell_type": "markdown",
   "metadata": {},
   "source": [
    "## Tuples are Comparable\n",
    "\n",
    "The comparison operators work with tuples and other sequences. If the first item is equal, Python goes on the next element, and so on, until it finds elements that differ."
   ]
  },
  {
   "cell_type": "code",
   "execution_count": null,
   "metadata": {},
   "outputs": [],
   "source": [
    "print( (0, 1, 2) < (5, 1, 2) )\n",
    "\n",
    "print( (0, 1, 20000) < (0, 3, 4) )\n",
    "\n",
    "print( ('Jones', 'Sally') < ('Jones', 'Sam') )\n",
    "\n",
    "print( ('Jones', 2) < ('Jones', 1) )"
   ]
  },
  {
   "cell_type": "markdown",
   "metadata": {},
   "source": [
    "## Sortings Lists of Tuples\n",
    "\n",
    "We can take advantage of the ability to sort a list of tuples to get a sorted version of a dictionary.\n",
    "\n",
    "First we sort the dictionary by the key using the items() method and sorted() function."
   ]
  },
  {
   "cell_type": "code",
   "execution_count": 6,
   "metadata": {},
   "outputs": [
    {
     "name": "stdout",
     "output_type": "stream",
     "text": [
      "dict_items([('a', 10), ('c', 22), ('b', 1)])\n",
      "[('a', 10), ('b', 1), ('c', 22)]\n"
     ]
    }
   ],
   "source": [
    "d = {'a' : 10, 'c' : 22, 'b' : 1}\n",
    "print(d.items())\n",
    "\n",
    "print(sorted(d.items()))"
   ]
  },
  {
   "cell_type": "code",
   "execution_count": 5,
   "metadata": {},
   "outputs": [
    {
     "name": "stdout",
     "output_type": "stream",
     "text": [
      "a 10\n",
      "b 1\n",
      "c 22\n"
     ]
    }
   ],
   "source": [
    "d = {'a' : 10, 'c' : 22, 'b' : 1}\n",
    "for k, v in sorted(d.items()):\n",
    "    print(k, v)"
   ]
  },
  {
   "cell_type": "markdown",
   "metadata": {},
   "source": [
    "If we could construct a list of tuples of the form (value, key) we could sort by value.\n",
    "\n",
    "We do this with a for loop that creates a list of tuples."
   ]
  },
  {
   "cell_type": "code",
   "execution_count": null,
   "metadata": {},
   "outputs": [],
   "source": [
    "c = {'a': 10, 'c' : 22, 'b' : 1}\n",
    "temp = list()\n",
    "for k, v in c.items():\n",
    "    temp.append((v,k))\n",
    "\n",
    "print(temp)\n",
    "temp = sorted(temp, reverse=True)\n",
    "print(temp)"
   ]
  },
  {
   "cell_type": "markdown",
   "metadata": {},
   "source": [
    "## The top 10 most common words"
   ]
  },
  {
   "cell_type": "code",
   "execution_count": null,
   "metadata": {},
   "outputs": [],
   "source": [
    "fhand = open('text.txt')\n",
    "counts = {} #Añade todas las palabras de un texto a un diccionario\n",
    "for line in fhand:\n",
    "    words = line.split()\n",
    "    for word in words:\n",
    "        counts[word] = counts.get(word, 0 ) + 1\n",
    "print (counts)\n",
    "\n",
    "lst = [] #Guarda todos los elementos del dicionario en forma de tuplas en una lista de tuplas\n",
    "for key, val in counts.items(): \n",
    "    newtup = (val, key)\n",
    "    lst.append(newtup)\n",
    "print (lst)\n",
    "\n",
    "lst = sorted(lst, reverse=True) #Ordena la lista de mayor a menor\n",
    "\n",
    "for val, key in lst[:10] : #Muestra los 10 primeros elementos de la lista\n",
    "    print(key, val)"
   ]
  },
  {
   "cell_type": "markdown",
   "metadata": {},
   "source": [
    "Even shorter version, for Python champions"
   ]
  },
  {
   "cell_type": "code",
   "execution_count": null,
   "metadata": {},
   "outputs": [],
   "source": [
    "c = {'a' : 10, 'c' : 22, 'b' : 1}\n",
    "print(sorted([ (v,k) for k,v in c.items() ]))"
   ]
  }
 ],
 "metadata": {
  "file_extension": ".py",
  "kernelspec": {
   "display_name": ".venv",
   "language": "python",
   "name": "python3"
  },
  "language_info": {
   "codemirror_mode": {
    "name": "ipython",
    "version": 3
   },
   "file_extension": ".py",
   "mimetype": "text/x-python",
   "name": "python",
   "nbconvert_exporter": "python",
   "pygments_lexer": "ipython3",
   "version": "3.11.2"
  },
  "mimetype": "text/x-python",
  "name": "python",
  "npconvert_exporter": "python",
  "orig_nbformat": 2,
  "pygments_lexer": "ipython3",
  "version": 3
 },
 "nbformat": 4,
 "nbformat_minor": 2
}
