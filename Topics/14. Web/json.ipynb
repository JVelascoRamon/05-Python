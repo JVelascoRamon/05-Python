{
 "cells": [
  {
   "cell_type": "markdown",
   "metadata": {},
   "source": [
    "# JSON (JavaScript Object Notation)\n",
    "\n",
    "Specified by [RFC 7159](https://tools.ietf.org/html/rfc7159.html) and by [ECMA-404](http://www.ecma-international.org/publications/standards/Ecma-404.htm) is a lightweight data interchange format inspired by JavaScript object literal syntax (althoug it is not a strict subset of JavaScript).\n",
    "\n",
    "``` json\n",
    "{\n",
    "    \"firstName\": \"Jane\",\n",
    "    \"lastName\": \"Doe\",\n",
    "    \"hobbies\": [\"running\", \"sky diving\", \"singing\"],\n",
    "    \"age\": 35,\n",
    "    \"children\": [\n",
    "        {\n",
    "            \"firstName\": \"Alice\",\n",
    "            \"age\": 6\n",
    "        },\n",
    "        {\n",
    "            \"firstName\": \"Bob\",\n",
    "            \"age\": 8\n",
    "        }\n",
    "    ]\n",
    "}\n",
    "```\n",
    "\n",
    "The process of encoding JSON is usually called serialization. This term refers to the transformation of data into a series of bytes to be stored or transmitted accross a network. Naturally, \n",
    "deserialization is the reciprocal process of decoding data that has been stored or delivered in the JSON standard.\n",
    "\n",
    "Python comes with a built-in package called `json` for encoding and decoding JSON data. Only is necesary `import json`\n"
   ]
  },
  {
   "cell_type": "markdown",
   "metadata": {},
   "source": [
    "## Serialization JSON\n",
    "\n",
    "The `json` library exposes the `dump()` method for writing data to files. There is also a `dumps()` method for writings to a Python string.\n",
    "\n",
    "Simple Python objects are translated to JSON according to a fairly intuitive conversion.\n",
    "\n",
    "|Python|JSON|\n",
    "|:-----:|:----:|\n",
    "|dict|object|\n",
    "|list,tuple|array|\n",
    "|str|string|\n",
    "|int,long,float|number|\n",
    "|True|true|\n",
    "|False|false|\n",
    "|None|null|"
   ]
  },
  {
   "cell_type": "code",
   "execution_count": 7,
   "metadata": {},
   "outputs": [
    {
     "name": "stdout",
     "output_type": "stream",
     "text": [
      "{\"verso\": {\"brand\": \"Toyota\", \"cv\": \"120CV\"}, \"leon\": {\"band\": \"Seat\", \"cv\": \"100CV\"}}\n"
     ]
    }
   ],
   "source": [
    "import json\n",
    "\n",
    "# Esto es un objeto en Python, no es una cadena en json\n",
    "cars = {\n",
    "    \"verso\" : {\n",
    "        \"brand\" : \"Toyota\",\n",
    "        \"cv\" : \"120CV\"\n",
    "    },\n",
    "    \"leon\" : {\n",
    "        \"band\" : \"Seat\",\n",
    "        \"cv\" : \"100CV\"\n",
    "    }\n",
    "}\n",
    "\n",
    "print(json.dumps(cars)) #Esto sí es una cadena de json\n",
    "\n",
    "with open('data_file.json' , \"w\") as fsave: #no hace falta poner el path porque el notebook ya utiliza el path en el que se encuentra\n",
    "    json.dump(cars , fsave , indent = 4) #Crea un archivo .json. Además, identa los elementos de la cadena json para que el código sea más lejible \n",
    "\n",
    "#json.dumps(cars, indent= 4)\n",
    "\n",
    "#with open(\"data_file.json\", \"w\") as fsave:\n",
    "#    json.dump(cars, fsave)"
   ]
  },
  {
   "cell_type": "markdown",
   "metadata": {},
   "source": [
    "## Deserializing JSON\n",
    "\n",
    "The `json` library exposes the `load()` and `loads()` for turning JSON encoded data into Python objects.\n",
    "\n",
    "Simple Python objects are translated to JSON according to a fairly intuitive conversion.\n",
    "\n",
    "|JSON|Python|\n",
    "|:-----:|:----:|\n",
    "|object|dict|\n",
    "|array|list|\n",
    "|string|str|\n",
    "|number(int)|int|\n",
    "|number(real)|float|\n",
    "|true|True|\n",
    "|false|False|\n",
    "|null|None|\n",
    "\n",
    "Technically, this conversion isn´t a perfect inverse to the serialization table. That basically means that if you encode an object now and then decode it again later, you may not get exactly the same object back."
   ]
  },
  {
   "cell_type": "code",
   "execution_count": 1,
   "metadata": {},
   "outputs": [
    {
     "name": "stdout",
     "output_type": "stream",
     "text": [
      "<class 'dict'>\n",
      "Name:  Chuck\n",
      "Professional:  contact@company.com\n"
     ]
    }
   ],
   "source": [
    "import json\n",
    "\n",
    "data = '''{\n",
    "    \"name\" : \"Chuck\",\n",
    "    \"phone\" : {\n",
    "        \"type\" : \"intl\",\n",
    "        \"number\" : \"+34 787 878 787\"\n",
    "    },\n",
    "    \"email\" : {\n",
    "        \"professional\" : \"contact@company.com\"\n",
    "    }\n",
    "}'''\n",
    "\n",
    "info = json.loads(data)\n",
    "print(type(info))\n",
    "print('Name: ', info[\"name\"])\n",
    "print('Professional: ', info[\"email\"][\"professional\"])"
   ]
  },
  {
   "cell_type": "code",
   "execution_count": null,
   "metadata": {},
   "outputs": [],
   "source": [
    "import json\n",
    "input = '''[\n",
    "  { \"id\" : \"001\",\n",
    "    \"x\" : \"2\",\n",
    "    \"name\" : \"Chuck\"\n",
    "  } ,\n",
    "  { \"id\" : \"009\",\n",
    "    \"x\" : \"7\",\n",
    "    \"name\" : \"Chuck\"\n",
    "  }\n",
    "]'''\n",
    "\n",
    "info = json.loads(input)\n",
    "print(type(info))\n",
    "print('User count:', len(info))\n",
    "for item in info:\n",
    "    print('Name', item['name'])\n",
    "    print('Id', item['id'])\n",
    "    print('Attribute', item['x'])\n"
   ]
  },
  {
   "cell_type": "markdown",
   "metadata": {},
   "source": [
    "With the `urllib` library we can obtain the json content of a resource, but in text mode."
   ]
  },
  {
   "cell_type": "code",
   "execution_count": null,
   "metadata": {},
   "outputs": [],
   "source": [
    "import urllib.request\n",
    "\n",
    "response = urllib.request.urlopen('https://jsonplaceholder.typicode.com/users')\n",
    "for line in response:\n",
    "    print(line.decode().strip())"
   ]
  },
  {
   "cell_type": "markdown",
   "metadata": {},
   "source": [
    "With the `urllib` and `json` library, we can obtain a full json object"
   ]
  },
  {
   "cell_type": "code",
   "execution_count": null,
   "metadata": {},
   "outputs": [],
   "source": [
    "import urllib.request, json\n",
    "\n",
    "url = \"https://jsonplaceholder.typicode.com/users\"\n",
    "\n",
    "with urllib.request.urlopen(url) as response:\n",
    "    data = json.loads(response.read().decode())\n",
    "\n",
    "print(data)"
   ]
  },
  {
   "cell_type": "markdown",
   "metadata": {},
   "source": [
    "## Requests : HTTP for Humans &trade;\n",
    "\n",
    "Requests is an elegant and simple HTTP library for Python. [Reference](https://requests.readthedocs.io/en/master/)"
   ]
  },
  {
   "cell_type": "code",
   "execution_count": 23,
   "metadata": {},
   "outputs": [
    {
     "name": "stdout",
     "output_type": "stream",
     "text": [
      "[{'id': 1, 'name': 'Leanne Graham', 'username': 'Bret', 'email': 'Sincere@april.biz', 'address': {'street': 'Kulas Light', 'suite': 'Apt. 556', 'city': 'Gwenborough', 'zipcode': '92998-3874', 'geo': {'lat': '-37.3159', 'lng': '81.1496'}}, 'phone': '1-770-736-8031 x56442', 'website': 'hildegard.org', 'company': {'name': 'Romaguera-Crona', 'catchPhrase': 'Multi-layered client-server neural-net', 'bs': 'harness real-time e-markets'}}, {'id': 2, 'name': 'Ervin Howell', 'username': 'Antonette', 'email': 'Shanna@melissa.tv', 'address': {'street': 'Victor Plains', 'suite': 'Suite 879', 'city': 'Wisokyburgh', 'zipcode': '90566-7771', 'geo': {'lat': '-43.9509', 'lng': '-34.4618'}}, 'phone': '010-692-6593 x09125', 'website': 'anastasia.net', 'company': {'name': 'Deckow-Crist', 'catchPhrase': 'Proactive didactic contingency', 'bs': 'synergize scalable supply-chains'}}, {'id': 3, 'name': 'Clementine Bauch', 'username': 'Samantha', 'email': 'Nathan@yesenia.net', 'address': {'street': 'Douglas Extension', 'suite': 'Suite 847', 'city': 'McKenziehaven', 'zipcode': '59590-4157', 'geo': {'lat': '-68.6102', 'lng': '-47.0653'}}, 'phone': '1-463-123-4447', 'website': 'ramiro.info', 'company': {'name': 'Romaguera-Jacobson', 'catchPhrase': 'Face to face bifurcated interface', 'bs': 'e-enable strategic applications'}}, {'id': 4, 'name': 'Patricia Lebsack', 'username': 'Karianne', 'email': 'Julianne.OConner@kory.org', 'address': {'street': 'Hoeger Mall', 'suite': 'Apt. 692', 'city': 'South Elvis', 'zipcode': '53919-4257', 'geo': {'lat': '29.4572', 'lng': '-164.2990'}}, 'phone': '493-170-9623 x156', 'website': 'kale.biz', 'company': {'name': 'Robel-Corkery', 'catchPhrase': 'Multi-tiered zero tolerance productivity', 'bs': 'transition cutting-edge web services'}}, {'id': 5, 'name': 'Chelsey Dietrich', 'username': 'Kamren', 'email': 'Lucio_Hettinger@annie.ca', 'address': {'street': 'Skiles Walks', 'suite': 'Suite 351', 'city': 'Roscoeview', 'zipcode': '33263', 'geo': {'lat': '-31.8129', 'lng': '62.5342'}}, 'phone': '(254)954-1289', 'website': 'demarco.info', 'company': {'name': 'Keebler LLC', 'catchPhrase': 'User-centric fault-tolerant solution', 'bs': 'revolutionize end-to-end systems'}}, {'id': 6, 'name': 'Mrs. Dennis Schulist', 'username': 'Leopoldo_Corkery', 'email': 'Karley_Dach@jasper.info', 'address': {'street': 'Norberto Crossing', 'suite': 'Apt. 950', 'city': 'South Christy', 'zipcode': '23505-1337', 'geo': {'lat': '-71.4197', 'lng': '71.7478'}}, 'phone': '1-477-935-8478 x6430', 'website': 'ola.org', 'company': {'name': 'Considine-Lockman', 'catchPhrase': 'Synchronised bottom-line interface', 'bs': 'e-enable innovative applications'}}, {'id': 7, 'name': 'Kurtis Weissnat', 'username': 'Elwyn.Skiles', 'email': 'Telly.Hoeger@billy.biz', 'address': {'street': 'Rex Trail', 'suite': 'Suite 280', 'city': 'Howemouth', 'zipcode': '58804-1099', 'geo': {'lat': '24.8918', 'lng': '21.8984'}}, 'phone': '210.067.6132', 'website': 'elvis.io', 'company': {'name': 'Johns Group', 'catchPhrase': 'Configurable multimedia task-force', 'bs': 'generate enterprise e-tailers'}}, {'id': 8, 'name': 'Nicholas Runolfsdottir V', 'username': 'Maxime_Nienow', 'email': 'Sherwood@rosamond.me', 'address': {'street': 'Ellsworth Summit', 'suite': 'Suite 729', 'city': 'Aliyaview', 'zipcode': '45169', 'geo': {'lat': '-14.3990', 'lng': '-120.7677'}}, 'phone': '586.493.6943 x140', 'website': 'jacynthe.com', 'company': {'name': 'Abernathy Group', 'catchPhrase': 'Implemented secondary concept', 'bs': 'e-enable extensible e-tailers'}}, {'id': 9, 'name': 'Glenna Reichert', 'username': 'Delphine', 'email': 'Chaim_McDermott@dana.io', 'address': {'street': 'Dayna Park', 'suite': 'Suite 449', 'city': 'Bartholomebury', 'zipcode': '76495-3109', 'geo': {'lat': '24.6463', 'lng': '-168.8889'}}, 'phone': '(775)976-6794 x41206', 'website': 'conrad.com', 'company': {'name': 'Yost and Sons', 'catchPhrase': 'Switchable contextually-based project', 'bs': 'aggregate real-time technologies'}}, {'id': 10, 'name': 'Clementina DuBuque', 'username': 'Moriah.Stanton', 'email': 'Rey.Padberg@karina.biz', 'address': {'street': 'Kattie Turnpike', 'suite': 'Suite 198', 'city': 'Lebsackbury', 'zipcode': '31428-2261', 'geo': {'lat': '-38.2386', 'lng': '57.2232'}}, 'phone': '024-648-3804', 'website': 'ambrose.net', 'company': {'name': 'Hoeger LLC', 'catchPhrase': 'Centralized empowering task-force', 'bs': 'target end-to-end models'}}]\n",
      "<class 'list'>\n",
      "10\n",
      "Leanne Graham\n",
      "{'lat': '-37.3159', 'lng': '81.1496'}\n",
      "Ervin Howell\n",
      "{'lat': '-43.9509', 'lng': '-34.4618'}\n",
      "Clementine Bauch\n",
      "{'lat': '-68.6102', 'lng': '-47.0653'}\n",
      "Patricia Lebsack\n",
      "{'lat': '29.4572', 'lng': '-164.2990'}\n",
      "Chelsey Dietrich\n",
      "{'lat': '-31.8129', 'lng': '62.5342'}\n",
      "Mrs. Dennis Schulist\n",
      "{'lat': '-71.4197', 'lng': '71.7478'}\n",
      "Kurtis Weissnat\n",
      "{'lat': '24.8918', 'lng': '21.8984'}\n",
      "Nicholas Runolfsdottir V\n",
      "{'lat': '-14.3990', 'lng': '-120.7677'}\n",
      "Glenna Reichert\n",
      "{'lat': '24.6463', 'lng': '-168.8889'}\n",
      "Clementina DuBuque\n",
      "{'lat': '-38.2386', 'lng': '57.2232'}\n"
     ]
    }
   ],
   "source": [
    "import requests\n",
    "\n",
    "r = requests.get('https://jsonplaceholder.typicode.com/users') #Es una página con listas y datos\n",
    "data = r.json() \n",
    "print(data)\n",
    "print(type(data)) #Data es una lista porque empieza por un corchete. Si empezase por llave sería un diccionario\n",
    "print (len(data))\n",
    "for user in data:\n",
    "    print(user[\"name\"])\n",
    "    print(user[\"address\"][\"geo\"])"
   ]
  },
  {
   "attachments": {},
   "cell_type": "markdown",
   "metadata": {},
   "source": [
    "# API\n",
    "\n",
    "The API itself is largely abstract in that it specifies an interface and controls the behavior of the objects specified in that interface. The software that provides the functionality described by an API is said to be an “implementation” of the API.  An API is typically defined in terms of the programming language used to build an application."
   ]
  },
  {
   "cell_type": "code",
   "execution_count": null,
   "metadata": {},
   "outputs": [],
   "source": [
    "import requests\n",
    "\n",
    "response = requests.get('https://api.github.com')\n",
    "print(response.json())"
   ]
  }
 ],
 "metadata": {
  "file_extension": ".py",
  "kernelspec": {
   "display_name": "Python 3",
   "language": "python",
   "name": "python3"
  },
  "language_info": {
   "codemirror_mode": {
    "name": "ipython",
    "version": 3
   },
   "file_extension": ".py",
   "mimetype": "text/x-python",
   "name": "python",
   "nbconvert_exporter": "python",
   "pygments_lexer": "ipython3",
   "version": "3.11.3"
  },
  "mimetype": "text/x-python",
  "name": "python",
  "npconvert_exporter": "python",
  "orig_nbformat": 2,
  "pygments_lexer": "ipython3",
  "version": 3
 },
 "nbformat": 4,
 "nbformat_minor": 2
}
