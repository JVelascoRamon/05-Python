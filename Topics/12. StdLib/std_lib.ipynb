{
 "cells": [
  {
   "cell_type": "markdown",
   "metadata": {},
   "source": [
    "# Goodies of the [Python Standard Library](https://docs.python.org/3/library/#the-python-standard-library)\n",
    "The Python Standard Libary is part of your Python installation. It contains a wide range of packages which may be helpful while building your Python masterpieces. This notebook lists some of the commonly used packages and their main functionalities."
   ]
  },
  {
   "cell_type": "markdown",
   "metadata": {},
   "source": [
    "## [`datetime`](https://docs.python.org/3/library/datetime.html#module-datetime) for working with dates and times"
   ]
  },
  {
   "cell_type": "code",
   "execution_count": 2,
   "metadata": {},
   "outputs": [
    {
     "name": "stdout",
     "output_type": "stream",
     "text": [
      "local now: 2023-04-20 12:17:26.777817\n",
      "utc now: 2023-04-20 10:17:26.778819\n",
      "2023 4 20 12 17 26\n",
      "date: 2023-04-20\n",
      "time: 12:17:26.777817\n"
     ]
    }
   ],
   "source": [
    "import datetime as dt\n",
    "\n",
    "local_now = dt.datetime.now()\n",
    "print('local now: {}'.format(local_now))\n",
    "\n",
    "utc_now = dt.datetime.utcnow()\n",
    "print('utc now: {}'.format(utc_now))\n",
    "\n",
    "# You can access any value separately:\n",
    "print('{} {} {} {} {} {}'.format(local_now.year, local_now.month,\n",
    "                                 local_now.day, local_now.hour,\n",
    "                                 local_now.minute, local_now.second))\n",
    "\n",
    "print('date: {}'.format(local_now.date()))\n",
    "print('time: {}'.format(local_now.time()))"
   ]
  },
  {
   "cell_type": "markdown",
   "metadata": {},
   "source": [
    "### `strftime()`\n",
    "For string formatting the `datetime`"
   ]
  },
  {
   "cell_type": "code",
   "execution_count": 16,
   "metadata": {},
   "outputs": [
    {
     "name": "stdout",
     "output_type": "stream",
     "text": [
      "20/04/2023 - 12:17:26\n",
      "date: 2023-04-20 time:12:17:26\n"
     ]
    }
   ],
   "source": [
    "#formatted1 = local_now.strftime('%Y/%m/%d-%H:%M:%S')\n",
    "formatted1 = local_now.strftime('%d/%m/%Y - %H:%M:%S')\n",
    "print(formatted1)\n",
    "\n",
    "formatted2 = local_now.strftime('date: %Y-%m-%d time:%H:%M:%S')\n",
    "print(formatted2)"
   ]
  },
  {
   "cell_type": "markdown",
   "metadata": {},
   "source": [
    "### `strptime()`\n",
    "For converting a datetime string into a `datetime` object "
   ]
  },
  {
   "cell_type": "code",
   "execution_count": null,
   "metadata": {},
   "outputs": [],
   "source": [
    "my_dt = dt.datetime.strptime('2000-01-01 10:00:00', '%Y-%m-%d %H:%M:%S')\n",
    "print('my_dt: {}'.format(my_dt))"
   ]
  },
  {
   "cell_type": "markdown",
   "metadata": {},
   "source": [
    "### [`timedelta`](https://docs.python.org/3/library/datetime.html#timedelta-objects)\n",
    "For working with time difference."
   ]
  },
  {
   "cell_type": "code",
   "execution_count": null,
   "metadata": {},
   "outputs": [],
   "source": [
    "tomorrow = local_now + dt.timedelta(days=1)\n",
    "print('tomorrow this time: {}'.format(tomorrow))\n",
    "\n",
    "delta = tomorrow - local_now\n",
    "print('tomorrow - now = {}'.format(delta))\n",
    "print('days: {}, seconds: {}'.format(delta.days, delta.seconds))\n",
    "print('total seconds: {}'.format(delta.total_seconds()))"
   ]
  },
  {
   "cell_type": "markdown",
   "metadata": {},
   "source": [
    "### Working with timezones\n",
    "Let's first make sure [`pytz`](http://pytz.sourceforge.net/) is installed."
   ]
  },
  {
   "cell_type": "code",
   "execution_count": null,
   "metadata": {},
   "outputs": [],
   "source": [
    "import sys\n",
    "!{sys.executable} -m pip install pytz"
   ]
  },
  {
   "cell_type": "code",
   "execution_count": 20,
   "metadata": {},
   "outputs": [
    {
     "ename": "ModuleNotFoundError",
     "evalue": "No module named 'pytz'",
     "output_type": "error",
     "traceback": [
      "\u001b[1;31m---------------------------------------------------------------------------\u001b[0m",
      "\u001b[1;31mModuleNotFoundError\u001b[0m                       Traceback (most recent call last)",
      "Cell \u001b[1;32mIn[20], line 2\u001b[0m\n\u001b[0;32m      1\u001b[0m \u001b[39mimport\u001b[39;00m \u001b[39mdatetime\u001b[39;00m \u001b[39mas\u001b[39;00m \u001b[39mdt\u001b[39;00m\n\u001b[1;32m----> 2\u001b[0m \u001b[39mimport\u001b[39;00m \u001b[39mpytz\u001b[39;00m\n\u001b[0;32m      4\u001b[0m naive_utc_now \u001b[39m=\u001b[39m dt\u001b[39m.\u001b[39mdatetime\u001b[39m.\u001b[39mutcnow()\n\u001b[0;32m      5\u001b[0m \u001b[39mprint\u001b[39m(\u001b[39m'\u001b[39m\u001b[39mnaive utc now: \u001b[39m\u001b[39m{}\u001b[39;00m\u001b[39m, tzinfo: \u001b[39m\u001b[39m{}\u001b[39;00m\u001b[39m'\u001b[39m\u001b[39m.\u001b[39mformat(naive_utc_now, naive_utc_now\u001b[39m.\u001b[39mtzinfo))\n",
      "\u001b[1;31mModuleNotFoundError\u001b[0m: No module named 'pytz'"
     ]
    }
   ],
   "source": [
    "import datetime as dt\n",
    "import pytz\n",
    "\n",
    "naive_utc_now = dt.datetime.utcnow()\n",
    "print('naive utc now: {}, tzinfo: {}'.format(naive_utc_now, naive_utc_now.tzinfo))\n",
    "\n",
    "# Localizing naive datetimes\n",
    "UTC_TZ = pytz.timezone('UTC')\n",
    "utc_now = UTC_TZ.localize(naive_utc_now)\n",
    "print('utc now: {}, tzinfo: {}'.format(utc_now, utc_now.tzinfo))\n",
    "\n",
    "# Converting localized datetimes to different timezone\n",
    "PARIS_TZ = pytz.timezone('Europe/Paris')\n",
    "paris_now = PARIS_TZ.normalize(utc_now)\n",
    "print('Paris: {}, tzinfo: {}'.format(paris_now, paris_now.tzinfo))\n",
    "\n",
    "NEW_YORK_TZ = pytz.timezone('America/New_York')\n",
    "ny_now = NEW_YORK_TZ.normalize(utc_now)\n",
    "print('New York: {}, tzinfo: {}'.format(ny_now, ny_now.tzinfo))"
   ]
  },
  {
   "cell_type": "markdown",
   "metadata": {},
   "source": [
    "**NOTE**: If your project uses datetimes heavily, you may want to take a look at external libraries, such as [Pendulum](https://pendulum.eustace.io/docs/) and [Maya](https://github.com/kennethreitz/maya), which make working with datetimes easier for certain use cases."
   ]
  },
  {
   "cell_type": "markdown",
   "metadata": {},
   "source": [
    "## [`random`](https://docs.python.org/3/library/random.html) for random number generation"
   ]
  },
  {
   "cell_type": "code",
   "execution_count": 42,
   "metadata": {},
   "outputs": [
    {
     "name": "stdout",
     "output_type": "stream",
     "text": [
      "random integer between 1-100: 22\n",
      "random float between 0-1: 0.8724077654368019\n"
     ]
    }
   ],
   "source": [
    "import random\n",
    "\n",
    "rand_int = random.randint(1, 100)\n",
    "print('random integer between 1-100: {}'.format(rand_int))\n",
    "\n",
    "rand = random.random()\n",
    "print('random float between 0-1: {}'.format(rand))"
   ]
  },
  {
   "cell_type": "markdown",
   "metadata": {},
   "source": [
    "If you need pseudo random numbers, you can set the `seed` for random. This will reproduce the output (try running the cell multiple times):"
   ]
  },
  {
   "cell_type": "code",
   "execution_count": null,
   "metadata": {},
   "outputs": [],
   "source": [
    "import random\n",
    "\n",
    "random.seed(5)  # Setting the seed\n",
    "\n",
    "# Let's print 10 random numbers\n",
    "for _ in range(10):\n",
    "    print(random.random())"
   ]
  },
  {
   "cell_type": "markdown",
   "metadata": {},
   "source": [
    "## [`re`](https://docs.python.org/3/library/re.html#module-re) for regular expressions\n",
    "\n",
    "Regular Expressions, also referred as \"regex\" or \"regexp\", provides a concise and flexible means for macthing strings of text, such as particular characters, words, or patterns of characters. A regular expressions is written in a formal language that can be interpreted by a regular expresion processor, aka `re` module. [Reference](https://docs.python.org/3/library/re.html)\n",
    "\n",
    "Before you can use regular expressions in your program, you must import the library using `import re`."
   ]
  },
  {
   "cell_type": "code",
   "execution_count": 43,
   "metadata": {},
   "outputs": [],
   "source": [
    "import re"
   ]
  },
  {
   "cell_type": "markdown",
   "metadata": {},
   "source": [
    "### Searching occurences\n",
    "\n",
    "You can use `re.search()` to see if a string matches a regular expression, similar to using the `find()` method for strings.\n",
    "\n",
    "You can use `re.findall()` to extract portions of a string that match your regular expression, similar to a combination of `find()` and slicing."
   ]
  },
  {
   "cell_type": "code",
   "execution_count": 44,
   "metadata": {},
   "outputs": [
    {
     "name": "stdout",
     "output_type": "stream",
     "text": [
      "match: <re.Match object; span=(9, 12), match='g12'>\n",
      "match.group(): g12\n",
      "numbers: ['8', '1', '2', '5', '0', '9']\n"
     ]
    }
   ],
   "source": [
    "import re\n",
    "\n",
    "secret_code = 'qwret 8sfg12f5 fd09f_df'\n",
    "# \"r\" at the beginning means raw format, use it with regular expression patterns\n",
    "search_pattern = r'(g12)' \n",
    "\n",
    "match = re.search(search_pattern, secret_code)\n",
    "print('match: {}'.format(match))\n",
    "print('match.group(): {}'.format(match.group()))\n",
    "\n",
    "numbers_pattern = r'[0-9]'\n",
    "numbers_match = re.findall(numbers_pattern, secret_code)\n",
    "print('numbers: {}'.format(numbers_match))"
   ]
  },
  {
   "cell_type": "markdown",
   "metadata": {},
   "source": [
    "### Variable validation"
   ]
  },
  {
   "cell_type": "code",
   "execution_count": null,
   "metadata": {},
   "outputs": [],
   "source": [
    "import re\n",
    "\n",
    "def validate_only_lower_case_letters(to_validate):\n",
    "    pattern = r'^[a-z]+$'\n",
    "    return bool(re.match(pattern, to_validate))\n",
    "\n",
    "print(validate_only_lower_case_letters('thisshouldbeok'))\n",
    "print(validate_only_lower_case_letters('thisshould notbeok'))\n",
    "print(validate_only_lower_case_letters('Thisshouldnotbeok'))\n",
    "print(validate_only_lower_case_letters('thisshouldnotbeok1'))\n",
    "print(validate_only_lower_case_letters(''))"
   ]
  },
  {
   "cell_type": "markdown",
   "metadata": {},
   "source": [
    "## Search line pattern"
   ]
  },
  {
   "cell_type": "code",
   "execution_count": 45,
   "metadata": {},
   "outputs": [
    {
     "name": "stdout",
     "output_type": "stream",
     "text": [
      "From: stephen.marquard@uct.ac.za\n",
      "From: louis@media.berkeley.edu\n"
     ]
    }
   ],
   "source": [
    "import re\n",
    "\n",
    "try:\n",
    "    fhandle = open('mbox-short.txt')\n",
    "    \n",
    "    pattern = r'^From:'\n",
    "    #pattern = r'^X-\\S+:'\n",
    "\n",
    "    for line in fhandle:\n",
    "        line = line.rstrip()\n",
    "        if re.search(pattern, line):\n",
    "            print (line)\n",
    "\n",
    "except FileNotFoundError:\n",
    "    print('File not found')"
   ]
  },
  {
   "cell_type": "markdown",
   "metadata": {},
   "source": [
    "## Search Emails"
   ]
  },
  {
   "cell_type": "code",
   "execution_count": null,
   "metadata": {
    "tags": [
     "outputPrepend"
    ]
   },
   "outputs": [],
   "source": [
    "import re\n",
    "\n",
    "try:\n",
    "    fhandle = open('mbox-short.txt', 'r')\n",
    "    \n",
    "    email_pattern = r'\\S+@\\S+'   ##Simple email pattern\n",
    "\n",
    "    content = fhandle.read()\n",
    "    emails = re.findall(email_pattern, content)\n",
    "    print(emails)\n",
    "except FileNotFoundError:\n",
    "    print('File not found')"
   ]
  },
  {
   "cell_type": "markdown",
   "metadata": {},
   "source": [
    "## [`logging`](https://docs.python.org/3/library/logging.html#module-logging)"
   ]
  },
  {
   "cell_type": "code",
   "execution_count": null,
   "metadata": {},
   "outputs": [],
   "source": [
    "import logging\n",
    "\n",
    "# Handy way for getting a dedicated logger for every module separately\n",
    "logger = logging.getLogger(__name__)\n",
    "logger.setLevel(logging.WARNING)\n",
    "\n",
    "logger.debug('This is debug')\n",
    "logger.info('This is info')\n",
    "logger.warning('This is warning')\n",
    "logger.error('This is error')\n",
    "logger.critical('This is critical')"
   ]
  },
  {
   "cell_type": "markdown",
   "metadata": {},
   "source": [
    "### Logging expections\n",
    "There's a neat `exception` function in `logging` module which will automatically log the stack trace in addition to user defined log entry. "
   ]
  },
  {
   "cell_type": "code",
   "execution_count": null,
   "metadata": {},
   "outputs": [],
   "source": [
    "try:\n",
    "    path_calculation = 1 / 0\n",
    "except ZeroDivisionError:\n",
    "    logging.exception('All went south in my calculation')"
   ]
  },
  {
   "cell_type": "markdown",
   "metadata": {},
   "source": [
    "### Formatting log entries"
   ]
  },
  {
   "cell_type": "code",
   "execution_count": null,
   "metadata": {},
   "outputs": [],
   "source": [
    "import logging\n",
    "\n",
    "# This is only required for Jupyter notebook environment\n",
    "from importlib import reload\n",
    "reload(logging)\n",
    "\n",
    "my_format = '%(asctime)s | %(name)-12s | %(levelname)-10s | %(message)s'\n",
    "logging.basicConfig(format=my_format)\n",
    "\n",
    "logger = logging.getLogger('MyLogger')\n",
    "\n",
    "logger.warning('Something bad is going to happen')\n",
    "logger.error('Uups, it already happened')"
   ]
  },
  {
   "cell_type": "markdown",
   "metadata": {},
   "source": [
    "### Logging to a file"
   ]
  },
  {
   "cell_type": "code",
   "execution_count": null,
   "metadata": {},
   "outputs": [],
   "source": [
    "import os\n",
    "import logging\n",
    "\n",
    "# This is only required for Jupyter notebook environment\n",
    "from importlib import reload\n",
    "reload(logging)\n",
    "\n",
    "logger = logging.getLogger('MyFileLogger')\n",
    "\n",
    "# Let's define a file_handler for our logger\n",
    "log_path = os.path.join(os.getcwd(), 'my_log.txt')\n",
    "file_handler = logging.FileHandler(log_path)\n",
    "\n",
    "# And a nice format\n",
    "formatter = logging.Formatter('%(asctime)s | %(name)-12s | %(levelname)-10s | %(message)s')\n",
    "file_handler.setFormatter(formatter)\n",
    "\n",
    "logger.addHandler(file_handler)\n",
    "\n",
    "# If you want to see it also in the console, add another handler for it\n",
    "# logger.addHandler(logging.StreamHandler())\n",
    "\n",
    "logger.warning('Oops something is going to happen')\n",
    "logger.error('John Doe visits our place')"
   ]
  },
  {
   "cell_type": "code",
   "execution_count": null,
   "metadata": {},
   "outputs": [],
   "source": []
  }
 ],
 "metadata": {
  "kernelspec": {
   "display_name": "Python 3",
   "language": "python",
   "name": "python3"
  },
  "language_info": {
   "codemirror_mode": {
    "name": "ipython",
    "version": 3
   },
   "file_extension": ".py",
   "mimetype": "text/x-python",
   "name": "python",
   "nbconvert_exporter": "python",
   "pygments_lexer": "ipython3",
   "version": "3.11.2"
  }
 },
 "nbformat": 4,
 "nbformat_minor": 2
}
